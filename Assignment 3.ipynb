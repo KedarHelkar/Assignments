{
 "cells": [
  {
   "cell_type": "code",
   "execution_count": 2,
   "id": "71646585",
   "metadata": {},
   "outputs": [
    {
     "name": "stdout",
     "output_type": "stream",
     "text": [
      "length in cm: 6\n",
      "breadth in cm: 5\n",
      "ur area of rectangle is: 30 cm^2\n"
     ]
    }
   ],
   "source": [
    "# Wap area of rectangle \n",
    "l=int(input(\"length in cm: \"))\n",
    "b=int(input(\"breadth in cm: \"))\n",
    "a=l*b\n",
    "print(\"ur area of rectangle is:\",a,\"cm^2\")"
   ]
  },
  {
   "cell_type": "code",
   "execution_count": 4,
   "id": "e8601f18",
   "metadata": {},
   "outputs": [
    {
     "name": "stdout",
     "output_type": "stream",
     "text": [
      "enter ur radius: 2\n",
      "ur area is:  12.56\n"
     ]
    }
   ],
   "source": [
    "# wap area of circle \n",
    "r=int(input(\"enter ur radius: \"))\n",
    "a=3.14*(r*r)\n",
    "print(\"ur area is: \",a)"
   ]
  },
  {
   "cell_type": "code",
   "execution_count": 7,
   "id": "d75afedf",
   "metadata": {},
   "outputs": [
    {
     "name": "stdout",
     "output_type": "stream",
     "text": [
      "enter length: 1\n",
      "enter breadth: 1\n",
      "enter hight: 1\n",
      "the area is:  6\n"
     ]
    }
   ],
   "source": [
    "# wap area of cuboid\n",
    "l=int(input(\"enter length: \"))\n",
    "b=int(input(\"enter breadth: \"))\n",
    "h=int(input(\"enter hight: \"))\n",
    "a=2*(l*b+b*h+h*l)\n",
    "print(\"the area is: \",a)"
   ]
  },
  {
   "cell_type": "code",
   "execution_count": 2,
   "id": "4c856bfd",
   "metadata": {},
   "outputs": [
    {
     "name": "stdout",
     "output_type": "stream",
     "text": [
      "inter the length of cube1\n",
      "Area of cube is: 6\n"
     ]
    }
   ],
   "source": [
    "# wap area of cube\n",
    "a=int(input(\"inter the length of cube\"))\n",
    "x=6*(a*a)\n",
    "print('Area of cube is:',x)"
   ]
  },
  {
   "cell_type": "code",
   "execution_count": 6,
   "id": "94e77783",
   "metadata": {},
   "outputs": [
    {
     "name": "stdout",
     "output_type": "stream",
     "text": [
      "enter radius1\n",
      "ennter height1\n",
      "area is 6.28\n"
     ]
    }
   ],
   "source": [
    "# wap area of CSA of cylinder\n",
    "r=int(input('enter radius'))\n",
    "h=int(input('ennter height'))\n",
    "a=2*(3.14*(r*h))\n",
    "print('area is',a)"
   ]
  },
  {
   "cell_type": "code",
   "execution_count": 7,
   "id": "4c56c0fc",
   "metadata": {},
   "outputs": [
    {
     "name": "stdout",
     "output_type": "stream",
     "text": [
      "enter radius1\n",
      "ennter height1\n",
      "area is 12.56\n"
     ]
    }
   ],
   "source": [
    "# wap area of TSA of cylinder\n",
    "r=int(input('enter radius'))\n",
    "h=int(input('ennter height'))\n",
    "a=2*3.14*r*(r+h)\n",
    "print('area is',a)"
   ]
  },
  {
   "cell_type": "code",
   "execution_count": 8,
   "id": "08980bd1",
   "metadata": {},
   "outputs": [
    {
     "name": "stdout",
     "output_type": "stream",
     "text": [
      "enter radius1\n",
      "enter length1\n",
      "csa is: 3.14\n"
     ]
    }
   ],
   "source": [
    "# wap area of CSA of cone\n",
    "r=int(input(\"enter radius\"))\n",
    "l=int(input(\"enter length\"))\n",
    "a=3.14*r*l\n",
    "print(\"csa is:\",a)"
   ]
  },
  {
   "cell_type": "code",
   "execution_count": 9,
   "id": "eeb02286",
   "metadata": {},
   "outputs": [
    {
     "name": "stdout",
     "output_type": "stream",
     "text": [
      "enter radius1\n",
      "enter slant length51\n",
      "csa is: 6.28\n"
     ]
    }
   ],
   "source": [
    "# wap area of TSA of right circular cone\n",
    "r=int(input(\"enter radius\"))\n",
    "l=int(input(\"enter slant length5\"))\n",
    "a=3.14*r*(r+l)\n",
    "print(\"csa is:\",a)"
   ]
  },
  {
   "cell_type": "code",
   "execution_count": 1,
   "id": "ecb78e5e",
   "metadata": {},
   "outputs": [
    {
     "name": "stdout",
     "output_type": "stream",
     "text": [
      "enter radius1\n",
      "tsa of sphere is: 12.56\n"
     ]
    }
   ],
   "source": [
    "# WAP TSA of sphere\n",
    "r=int(input(\"enter radius\"))\n",
    "a=4*(3.14*(r*r))\n",
    "print(\"tsa of sphere is:\",a)"
   ]
  },
  {
   "cell_type": "code",
   "execution_count": 2,
   "id": "71117c30",
   "metadata": {},
   "outputs": [
    {
     "name": "stdout",
     "output_type": "stream",
     "text": [
      "enter length1\n",
      "enter breadth1\n",
      "enter hight1\n",
      "volume of cuboid is: 1\n"
     ]
    }
   ],
   "source": [
    "# wap valume of cubiod\n",
    "l=int(input(\"enter length\"))\n",
    "b=int(input(\"enter breadth\"))\n",
    "h=int(input(\"enter hight\"))\n",
    "a=l*b*h\n",
    "print(\"volume of cuboid is:\",a)"
   ]
  },
  {
   "cell_type": "code",
   "execution_count": 4,
   "id": "6de9bbb8",
   "metadata": {},
   "outputs": [
    {
     "name": "stdout",
     "output_type": "stream",
     "text": [
      "enter length1\n",
      "volume of cube is: 1\n"
     ]
    }
   ],
   "source": [
    "# wap valume of cube\n",
    "l=int(input(\"enter length\"))\n",
    "a=l*l*l\n",
    "print(\"volume of cube is:\",a)"
   ]
  },
  {
   "cell_type": "code",
   "execution_count": 5,
   "id": "b478868e",
   "metadata": {},
   "outputs": [
    {
     "name": "stdout",
     "output_type": "stream",
     "text": [
      "enter radius1\n",
      "enter hight1\n",
      "volume of cylinder is: 3.14\n"
     ]
    }
   ],
   "source": [
    "# wap valume of cylinder\n",
    "r=int(input(\"enter radius\"))\n",
    "h=int(input(\"enter hight\"))\n",
    "v=3.14*r*r*h\n",
    "print(\"volume of cylinder is:\",v)"
   ]
  },
  {
   "cell_type": "code",
   "execution_count": 6,
   "id": "74aa4b4d",
   "metadata": {},
   "outputs": [
    {
     "name": "stdout",
     "output_type": "stream",
     "text": [
      "enter radius1\n",
      "enter hight1\n",
      "valume of cone is: 1.0466666666666666\n"
     ]
    }
   ],
   "source": [
    "# wap valume of cone\n",
    "r=int(input(\"enter radius\"))\n",
    "h=int(input(\"enter hight\"))\n",
    "v=1/3*(3.14*r*r*h)\n",
    "print(\"valume of cone is:\",v)"
   ]
  },
  {
   "cell_type": "code",
   "execution_count": 7,
   "id": "8bbd84d1",
   "metadata": {},
   "outputs": [
    {
     "name": "stdout",
     "output_type": "stream",
     "text": [
      "enter radius2\n",
      "valume of sphere is: 33.49333333333333\n"
     ]
    }
   ],
   "source": [
    "# wap valume of sphere\n",
    "r=int(input(\"enter radius\"))\n",
    "v=4/3*3.14*r*r*r\n",
    "print(\"valume of sphere is:\",v)"
   ]
  },
  {
   "cell_type": "code",
   "execution_count": 2,
   "id": "d5764e87",
   "metadata": {},
   "outputs": [
    {
     "name": "stdout",
     "output_type": "stream",
     "text": [
      "enter length26\n",
      "enter breadth12\n",
      "perimeter of rectangle is: 76 cm\n"
     ]
    }
   ],
   "source": [
    "# - wap perimeter of rectangle\n",
    "l=int(input(\"enter length\"))\n",
    "b=int(input(\"enter breadth\"))\n",
    "a=2*(l+b)\n",
    "print(\"perimeter of rectangle is:\",a,\"cm\")"
   ]
  },
  {
   "cell_type": "code",
   "execution_count": 3,
   "id": "1fb2833f",
   "metadata": {},
   "outputs": [
    {
     "name": "stdout",
     "output_type": "stream",
     "text": [
      "enter length in cm1\n",
      "area of square is: 1 cm^2\n"
     ]
    }
   ],
   "source": [
    "# wap area of square\n",
    "a=int(input(\"enter length in cm\"))\n",
    "x=a*a\n",
    "print(\"area of square is:\",x,'cm^2')"
   ]
  },
  {
   "cell_type": "code",
   "execution_count": 4,
   "id": "218c1127",
   "metadata": {},
   "outputs": [
    {
     "name": "stdout",
     "output_type": "stream",
     "text": [
      "enter height4\n",
      "enter base5\n",
      "area of triangle is: 10.0 cm^2\n"
     ]
    }
   ],
   "source": [
    "# wap area of triangle\n",
    "h=int(input(\"enter height\"))\n",
    "b=int(input(\"enter base\"))\n",
    "a=1/2*b*h\n",
    "print(\"area of triangle is:\",a,\"cm^2\")"
   ]
  },
  {
   "cell_type": "code",
   "execution_count": 5,
   "id": "be626ca0",
   "metadata": {},
   "outputs": [
    {
     "name": "stdout",
     "output_type": "stream",
     "text": [
      "enter 1st no.1\n",
      "enter 2nd no.2\n",
      "enter 3rd no.3\n",
      "the greatest no. is 3\n"
     ]
    }
   ],
   "source": [
    "# wap greatest number in three numbers\n",
    "a=int(input(\"enter 1st no.\"))\n",
    "b=int(input(\"enter 2nd no.\"))\n",
    "c=int(input(\"enter 3rd no.\"))\n",
    "if a>b:\n",
    "    if a>c:\n",
    "        print(\"the greatest no. is \",a)\n",
    "    else:\n",
    "        print(\"the greates no. is\",c)\n",
    "else:\n",
    "    if b>c:\n",
    "        print(\"the greatest no. is\",b)\n",
    "    else:\n",
    "        print(\"the greatest no. is\",c)\n"
   ]
  },
  {
   "cell_type": "code",
   "execution_count": 6,
   "id": "d9ef9efe",
   "metadata": {},
   "outputs": [
    {
     "name": "stdout",
     "output_type": "stream",
     "text": [
      "enter the 1st side of triangle1\n",
      "enter the second side of triangle1\n",
      "enter the third side of triangle1\n",
      "perimeter is: 3\n"
     ]
    }
   ],
   "source": [
    "# wap perimeter of triangle\n",
    "a=int(input(\"enter the 1st side of triangle\"))\n",
    "b=int(input(\"enter the second side of triangle\"))\n",
    "c=int(input(\"enter the third side of triangle\"))\n",
    "p=a+b+c\n",
    "print(\"perimeter is:\",p)"
   ]
  },
  {
   "cell_type": "code",
   "execution_count": 9,
   "id": "235d15f0",
   "metadata": {},
   "outputs": [
    {
     "name": "stdout",
     "output_type": "stream",
     "text": [
      "enter the fisrt no.1\n",
      "enter the second no.2\n",
      "enter the third no.3\n",
      "enter the fourth no.3\n",
      "either any two values or all the four values are equal\n"
     ]
    }
   ],
   "source": [
    "# wap greatest number in four numbers\n",
    "a=int(input(\"enter the fisrt no.\"))\n",
    "b=int(input(\"enter the second no.\"))\n",
    "c=int(input(\"enter the third no.\"))\n",
    "d=int(input(\"enter the fourth no.\"))\n",
    "if(a>b and a>c and a>d):\n",
    "    print(\"greatest no. is\",a)\n",
    "elif (b>c and b>d):\n",
    "    print('greatest no. is',b)\n",
    "elif (c>d):\n",
    "    print(\"greatest no. is\",c)\n",
    "elif (d>c):\n",
    "    print(\"greatest no. is\",d)\n",
    "else:\n",
    "    print(\"either any two values or all the four values are equal\")"
   ]
  },
  {
   "cell_type": "code",
   "execution_count": 1,
   "id": "1d2305cc",
   "metadata": {},
   "outputs": [
    {
     "name": "stdout",
     "output_type": "stream",
     "text": [
      "enter marks out of 300200\n",
      "percentage is 66.66666666666666 %\n",
      "your division is fisrt\n"
     ]
    }
   ],
   "source": [
    "# wap to check division in result\n",
    "a=eval(input(\"enter marks out of 300\"))\n",
    "b=a/300*100\n",
    "print(\"percentage is\",b,\"%\")\n",
    "if a>300:\n",
    "    print(\"you entered a wrong marks\")\n",
    "elif b>60:\n",
    "    print(\"your division is fisrt\")\n",
    "elif (b>50 and b<53):\n",
    "    print(\"your division is second\")\n",
    "elif (b>33 and b<50):\n",
    "    print(\"your division is third\")\n",
    "else:\n",
    "    print(\"fail\")"
   ]
  },
  {
   "cell_type": "code",
   "execution_count": 2,
   "id": "35be369b",
   "metadata": {},
   "outputs": [
    {
     "name": "stdout",
     "output_type": "stream",
     "text": [
      "enter your age55\n",
      "experienced\n"
     ]
    }
   ],
   "source": [
    "# wap to check age criteria\n",
    "y=int(input(\"enter your age\"))\n",
    "if (y>0 and y<12):\n",
    "    print(\"kid\")\n",
    "elif (y>=12 and y<19):\n",
    "    print(\"teenager\")\n",
    "elif (y>=19 and y<30):\n",
    "    print(\"young\")\n",
    "elif (y>=30 and y<45):\n",
    "    print(\"mature\")\n",
    "elif (y>=45 and y<60):\n",
    "    print(\"experienced\")\n",
    "elif (y>=60 and y<75):\n",
    "    print(\"old\")\n",
    "elif y>=75:\n",
    "    print(\"senior citizen\")"
   ]
  },
  {
   "cell_type": "code",
   "execution_count": 6,
   "id": "9dace3a2",
   "metadata": {},
   "outputs": [
    {
     "name": "stdout",
     "output_type": "stream",
     "text": [
      "enter limit 5\n",
      "the sum is 10\n"
     ]
    }
   ],
   "source": [
    "# wap sum of Nth number\n",
    "n=int(input(\"enter limit \"))\n",
    "s=0\n",
    "for c in range(1,n):\n",
    "    s=c+s\n",
    "print(\"the sum is\",s)"
   ]
  },
  {
   "cell_type": "code",
   "execution_count": 9,
   "id": "59e93809",
   "metadata": {},
   "outputs": [
    {
     "name": "stdout",
     "output_type": "stream",
     "text": [
      "enter a number2\n",
      "the factorial of 2 is 4\n"
     ]
    }
   ],
   "source": [
    "# wap to check the value of factorial\n",
    "a=int(input(\"enter a number\"))\n",
    "f=1\n",
    "if a<0:\n",
    "    print(\"sorry, factorial does not exist for negative numbers\")\n",
    "elif a==0:\n",
    "    print(\"the factorial of 0 is 1\")\n",
    "else:\n",
    "    for i in range (1,a+1):\n",
    "        f=f+i\n",
    "    print(\"the factorial of\",a,\"is\",f)"
   ]
  },
  {
   "cell_type": "code",
   "execution_count": 10,
   "id": "abe48249",
   "metadata": {},
   "outputs": [
    {
     "name": "stdout",
     "output_type": "stream",
     "text": [
      "show the multiplication table of?3\n",
      "3 x 1 = 3\n",
      "3 x 2 = 6\n",
      "3 x 3 = 9\n",
      "3 x 4 = 12\n",
      "3 x 5 = 15\n",
      "3 x 6 = 18\n",
      "3 x 7 = 21\n",
      "3 x 8 = 24\n",
      "3 x 9 = 27\n",
      "3 x 10 = 30\n"
     ]
    }
   ],
   "source": [
    "# wap to print multiplication table\n",
    "a=int(input(\"show the multiplication table of?\"))\n",
    "for i in range(1,11):\n",
    "    print(a,\"x\",i,\"=\",a*i)"
   ]
  },
  {
   "cell_type": "code",
   "execution_count": 11,
   "id": "dbee728a",
   "metadata": {},
   "outputs": [
    {
     "name": "stdout",
     "output_type": "stream",
     "text": [
      "enter the number rows6\n",
      "******\n",
      "*****\n",
      "****\n",
      "***\n",
      "**\n",
      "*\n"
     ]
    }
   ],
   "source": [
    "# wap to print opposite right angle triangle\n",
    "n=int(input(\"enter the number rows\"))\n",
    "for i in range(n,0,-1):\n",
    "    for j in range(0,i):\n",
    "        print(\"*\",end=\"\")\n",
    "    print()"
   ]
  },
  {
   "cell_type": "code",
   "execution_count": 13,
   "id": "4a502f76",
   "metadata": {},
   "outputs": [
    {
     "name": "stdout",
     "output_type": "stream",
     "text": [
      "enter the number of rows:6\n",
      "1\n",
      "22\n",
      "333\n",
      "4444\n",
      "55555\n",
      "666666\n"
     ]
    }
   ],
   "source": [
    "# wap to print 1,22,333,4444\n",
    "n=int(input(\"enter the number of rows:\"))\n",
    "for i in range(1,n+1):\n",
    "    for j in range(1,i+1):\n",
    "        print(i,end=\"\")\n",
    "    print()"
   ]
  },
  {
   "cell_type": "code",
   "execution_count": 14,
   "id": "9aa9882f",
   "metadata": {},
   "outputs": [
    {
     "name": "stdout",
     "output_type": "stream",
     "text": [
      "enter the number of rows5\n",
      "     *\n",
      "    **\n",
      "   ***\n",
      "  ****\n",
      " *****\n"
     ]
    }
   ],
   "source": [
    "# wap to print star pattern of opposite triangle\n",
    "n=int(input(\"enter the number of rows\"))\n",
    "for i in range(0,n):\n",
    "    for j in range(0,n-i):\n",
    "        print(\" \",end=\"\")\n",
    "    for k in range (0,i+1):\n",
    "        print(\"*\",end=\"\")\n",
    "    print(\"\")"
   ]
  },
  {
   "cell_type": "code",
   "execution_count": 15,
   "id": "99e0091b",
   "metadata": {},
   "outputs": [
    {
     "name": "stdout",
     "output_type": "stream",
     "text": [
      "enter the no. of rows7\n",
      "1\n",
      "12\n",
      "123\n",
      "1234\n",
      "12345\n",
      "123456\n",
      "1234567\n"
     ]
    }
   ],
   "source": [
    "# wap to print pattern 1,12,123,1234\n",
    "n=int(input(\"enter the no. of rows\"))\n",
    "for i in range(1,n+1):\n",
    "    for j in range(1,i+1):\n",
    "        print(j,end=\"\")\n",
    "    print()"
   ]
  },
  {
   "cell_type": "code",
   "execution_count": 17,
   "id": "4aed7be6",
   "metadata": {},
   "outputs": [
    {
     "name": "stdout",
     "output_type": "stream",
     "text": [
      "enter the range6\n",
      "0\n",
      "1\n",
      "1\n",
      "2\n",
      "3\n",
      "5\n"
     ]
    }
   ],
   "source": [
    "# wap to print fibonacci series use while loop\n",
    "a=eval(input(\"enter the range\"))\n",
    "i=0\n",
    "first_value=0\n",
    "second_value=1\n",
    "while(i<a):\n",
    "    if(i<=1):\n",
    "        Next=i\n",
    "    else:\n",
    "        Next=first_value+second_value\n",
    "        first_value=second_value\n",
    "        second_value=Next\n",
    "    print(Next)\n",
    "    i=i+1"
   ]
  },
  {
   "cell_type": "code",
   "execution_count": 18,
   "id": "b56232ca",
   "metadata": {},
   "outputs": [
    {
     "name": "stdout",
     "output_type": "stream",
     "text": [
      "enter the range10\n",
      "0\n",
      "1\n",
      "1\n",
      "2\n",
      "3\n",
      "5\n",
      "8\n",
      "13\n",
      "21\n",
      "34\n"
     ]
    }
   ],
   "source": [
    "# wap to print fibonacci series use for loop\n",
    "number=int(input(\"enter the range\"))\n",
    "first_value=0\n",
    "second_value=1\n",
    "for num in range(0,number):\n",
    "    if(num<=1):\n",
    "        Next=num\n",
    "    else:\n",
    "        Next=first_value+second_value\n",
    "        first_value=second_value\n",
    "        second_value=Next\n",
    "    print(Next)"
   ]
  },
  {
   "cell_type": "code",
   "execution_count": 20,
   "id": "bac7dff9",
   "metadata": {},
   "outputs": [
    {
     "name": "stdout",
     "output_type": "stream",
     "text": [
      "enter a charecterH\n",
      "A\n",
      "AB\n",
      "ABC\n",
      "ABCD\n",
      "ABCDE\n",
      "ABCDEF\n",
      "ABCDEFG\n",
      "ABCDEFGH\n"
     ]
    }
   ],
   "source": [
    "# wap to print pattern A,AB,ABC,...\n",
    "ch=str(input(\"enter a charecter\"))\n",
    "a=ord(ch)\n",
    "for x in range(65,a+1):\n",
    "    for c in range(65,x+1):\n",
    "        print(chr(c),end=\"\")\n",
    "    print(\"\")"
   ]
  },
  {
   "cell_type": "code",
   "execution_count": 21,
   "id": "c64960f4",
   "metadata": {},
   "outputs": [
    {
     "name": "stdout",
     "output_type": "stream",
     "text": [
      "enter the number5\n",
      "enter power2\n",
      "25\n"
     ]
    }
   ],
   "source": [
    "# wap to calculation of x^n by for loop\n",
    "x=int(input(\"enter the number\"))\n",
    "b=int(input(\"enter power\"))\n",
    "y=x\n",
    "for a in range(0,b-1):\n",
    "    y=x*y\n",
    "print(y)"
   ]
  },
  {
   "cell_type": "code",
   "execution_count": 22,
   "id": "ef5bca0b",
   "metadata": {},
   "outputs": [
    {
     "name": "stdout",
     "output_type": "stream",
     "text": [
      "enter number2\n",
      "enter power2\n",
      "4\n"
     ]
    }
   ],
   "source": [
    "# wap calculation of x^n\n",
    "a=int(input(\"enter number\"))\n",
    "b=int(input(\"enter power\"))\n",
    "c=a**b\n",
    "print(c)\n"
   ]
  },
  {
   "cell_type": "code",
   "execution_count": 23,
   "id": "65e1b7fa",
   "metadata": {},
   "outputs": [
    {
     "name": "stdout",
     "output_type": "stream",
     "text": [
      "enter number121\n",
      "the number is palindrome\n"
     ]
    }
   ],
   "source": [
    "# wap to print the integer is palindrome or not palindrome\n",
    "n=int(input(\"enter number\"))\n",
    "x=n\n",
    "r=0\n",
    "while n>0:\n",
    "    d=n%10\n",
    "    r=r*10+d\n",
    "    n=n//10\n",
    "if x==r:\n",
    "    print(\"the number is palindrome\")\n",
    "else:\n",
    "    print(\"the number is not palindrome\")\n",
    "    "
   ]
  },
  {
   "cell_type": "code",
   "execution_count": 25,
   "id": "a9964bb6",
   "metadata": {},
   "outputs": [
    {
     "name": "stdout",
     "output_type": "stream",
     "text": [
      "enter the element of list 5\n",
      "do you want to enter more element:Y\n",
      "enter the element of list 6\n",
      "do you want to enter more element:Y\n",
      "enter the element of list 62\n",
      "do you want to enter more element:N\n",
      "the list is: [5, 6, 62]\n",
      "the factorial of element is: [120, 720, 31469973260387937525653122354950764088012280797258232192163168247821107200000000000000]\n"
     ]
    }
   ],
   "source": [
    "# wap to print factorial of list\n",
    "a=[]\n",
    "fact=[]\n",
    "ch=\"y\"\n",
    "while ch==\"y\" or ch==\"Y\":\n",
    "    item=int(input(\"enter the element of list \"))\n",
    "    a.append(item)\n",
    "    ch=input(\"do you want to enter more element:\")\n",
    "print(\"the list is:\",a)\n",
    "for i in a:\n",
    "    f=1\n",
    "    for j in range(1,i+1):\n",
    "        f=f*j\n",
    "    fact.append(f)\n",
    "print(\"the factorial of element is:\",fact)"
   ]
  },
  {
   "cell_type": "code",
   "execution_count": 27,
   "id": "9729b347",
   "metadata": {},
   "outputs": [
    {
     "name": "stdout",
     "output_type": "stream",
     "text": [
      "enter rows 5\n",
      "    * \n",
      "   * * \n",
      "  * * * \n",
      " * * * * \n",
      "* * * * * \n"
     ]
    }
   ],
   "source": [
    "# wap to print pascal triangle\n",
    "n=int(input('enter rows '))\n",
    "for i in range(0,n):\n",
    "    for j in range(0,n-i-1):\n",
    "        print(end=\" \")\n",
    "    for j in range(0,i+1):\n",
    "        print(\"*\",end=\" \")\n",
    "    print()"
   ]
  },
  {
   "cell_type": "code",
   "execution_count": 28,
   "id": "52ee0784",
   "metadata": {},
   "outputs": [
    {
     "name": "stdout",
     "output_type": "stream",
     "text": [
      "enter limit4\n",
      "enter element 65\n",
      "enter element 32\n",
      "enter element 82\n",
      "enter element 62\n",
      "[65, 32, 82, 62]\n"
     ]
    }
   ],
   "source": [
    "# wap to create a list of values inputted by user\n",
    "a=eval(input(\"enter limit\"))\n",
    "n=[]\n",
    "for a in range(1,a+1):\n",
    "    a=eval(input(\"enter element \"))\n",
    "    n.append(a)\n",
    "print(n)"
   ]
  },
  {
   "cell_type": "code",
   "execution_count": 31,
   "id": "cbff52f6",
   "metadata": {},
   "outputs": [
    {
     "name": "stdout",
     "output_type": "stream",
     "text": [
      "enter limit4\n",
      "enter element 56\n",
      "enter element 55\n",
      "enter element 78\n",
      "enter element 74\n",
      "[56, 55, 78, 74]\n",
      "after sorting the list is \n",
      "[55, 56, 74, 78]\n"
     ]
    }
   ],
   "source": [
    "# wap to create a list of values inputted by user and sort in increasing order\n",
    "a=eval(input(\"enter limit\"))\n",
    "n=[]\n",
    "for a in range(1,a+1):\n",
    "    a=eval(input(\"enter element \"))\n",
    "    n.append(a)\n",
    "print(n)\n",
    "l=len(n)\n",
    "for i in range(l):\n",
    "    for j in range(0,l-i-1):\n",
    "        if n[j]>n[j+1]:\n",
    "            temp=n[j]\n",
    "            n[j]=n[j+1]\n",
    "            n[j+1]=temp\n",
    "print(\"after sorting the list is \")\n",
    "print(n)"
   ]
  },
  {
   "cell_type": "code",
   "execution_count": 32,
   "id": "0654b1f0",
   "metadata": {},
   "outputs": [
    {
     "name": "stdout",
     "output_type": "stream",
     "text": [
      "enter limit4\n",
      "enter element 2\n",
      "enter element 4\n",
      "enter element 6\n",
      "enter element 2\n",
      "[2, 4, 6, 2]\n",
      "after sorting the list is \n",
      "[2, 2, 4, 6]\n"
     ]
    }
   ],
   "source": [
    "# sorting in ascending order use bubble sort\n",
    "a=eval(input(\"enter limit\"))\n",
    "n=[]\n",
    "for a in range(1,a+1):\n",
    "    a=eval(input(\"enter element \"))\n",
    "    n.append(a)\n",
    "print(n)\n",
    "l=len(n)\n",
    "for i in range(l):\n",
    "    for j in range(0,l-i-1):\n",
    "        if n[j]>n[j+1]:\n",
    "            temp=n[j]\n",
    "            n[j]=n[j+1]\n",
    "            n[j+1]=temp\n",
    "print(\"after sorting the list is \")\n",
    "print(n)"
   ]
  },
  {
   "cell_type": "code",
   "execution_count": 4,
   "id": "88af520d",
   "metadata": {},
   "outputs": [
    {
     "name": "stdout",
     "output_type": "stream",
     "text": [
      "enter limit2\n",
      "enter mobile number 7620921661\n",
      "enter nameKedarnath\n",
      "enter mobile number 7620921661\n",
      "enter namekedarnath\n",
      "{7620921661: 'kedarnath'}\n",
      "enter the no. to search in dictionary7620921661\n",
      "the name of person is kedarnath\n"
     ]
    }
   ],
   "source": [
    "# wap in python to create a phone dictionary\n",
    "n=int(input(\"enter limit\"))\n",
    "m={}\n",
    "mob=0\n",
    "name=\"\"\n",
    "i=0\n",
    "for i in range(0,n):\n",
    "    mob=int(input(\"enter mobile number \"))\n",
    "    name=str(input('enter name'))\n",
    "    z2=dict({mob:name})\n",
    "    m.update(z2)\n",
    "print(m)\n",
    "n=int(input(\"enter the no. to search in dictionary\"))\n",
    "print(\"the name of person is\",m[n])"
   ]
  },
  {
   "cell_type": "code",
   "execution_count": 1,
   "id": "d1a9c2b6",
   "metadata": {},
   "outputs": [
    {
     "name": "stdout",
     "output_type": "stream",
     "text": [
      "enter number5\n",
      "5 is prime number\n"
     ]
    }
   ],
   "source": [
    "# wap to find given number is prime or not\n",
    "num=int(input(\"enter number\"))\n",
    "lim=int(num/2)+1\n",
    "for i in range(2,lim):\n",
    "    rem=num%i\n",
    "    if rem==0:\n",
    "        print(num,\"is not prime number\")\n",
    "        break\n",
    "else:\n",
    "    print(num,\"is prime number\")"
   ]
  },
  {
   "cell_type": "code",
   "execution_count": 2,
   "id": "dcf08f62",
   "metadata": {},
   "outputs": [
    {
     "name": "stdout",
     "output_type": "stream",
     "text": [
      "enter number3\n",
      "3 is odd number\n"
     ]
    }
   ],
   "source": [
    "# wap to find given number is even or odd\n",
    "a=int(input(\"enter number\"))\n",
    "r=a%2\n",
    "if r==0:\n",
    "    print(a,\"is even number\")\n",
    "elif r>0:\n",
    "    print(a,\"is odd number\")\n",
    "else:\n",
    "    print(\"you entered the number 0 or less than 0\")"
   ]
  },
  {
   "cell_type": "code",
   "execution_count": 3,
   "id": "309bac78",
   "metadata": {},
   "outputs": [
    {
     "name": "stdout",
     "output_type": "stream",
     "text": [
      "enter limit5\n",
      "enter element52\n",
      "enter element63\n",
      "enter element952\n",
      "enter element25\n",
      "enter element125\n",
      "tuple is (52, 63, 952, 25, 125)\n"
     ]
    }
   ],
   "source": [
    "# wap to create a tuple of values inputed by user\n",
    "a=()\n",
    "l=[]\n",
    "n=int(input(\"enter limit\"))\n",
    "for i in range(0,n):\n",
    "    item=int(input(\"enter element\"))\n",
    "    l.append(item)\n",
    "a=a+tuple(l)\n",
    "print(\"tuple is\",a)"
   ]
  },
  {
   "cell_type": "code",
   "execution_count": 6,
   "id": "3d9873bc",
   "metadata": {},
   "outputs": [
    {
     "name": "stdout",
     "output_type": "stream",
     "text": [
      "enter the integer123\n",
      "the reversed integer is: inf\n"
     ]
    }
   ],
   "source": [
    "# wap to reverse an integer\n",
    "n=int(input(\"enter the integer\"))\n",
    "x=n\n",
    "r=0\n",
    "while n>0:\n",
    "    d=n%10\n",
    "    r=r*10+d\n",
    "    n=n/10\n",
    "print(\"the reversed integer is:\",r)"
   ]
  },
  {
   "cell_type": "code",
   "execution_count": null,
   "id": "fdfc30f5",
   "metadata": {},
   "outputs": [],
   "source": []
  }
 ],
 "metadata": {
  "kernelspec": {
   "display_name": "Python 3 (ipykernel)",
   "language": "python",
   "name": "python3"
  },
  "language_info": {
   "codemirror_mode": {
    "name": "ipython",
    "version": 3
   },
   "file_extension": ".py",
   "mimetype": "text/x-python",
   "name": "python",
   "nbconvert_exporter": "python",
   "pygments_lexer": "ipython3",
   "version": "3.11.4"
  }
 },
 "nbformat": 4,
 "nbformat_minor": 5
}
